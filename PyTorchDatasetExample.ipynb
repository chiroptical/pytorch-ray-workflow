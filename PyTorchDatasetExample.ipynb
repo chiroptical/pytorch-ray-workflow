{
 "cells": [
  {
   "cell_type": "markdown",
   "metadata": {},
   "source": [
    "Accompanying Blog Post: https://barrymoo.dev/blog/simple-scaleable-preprocessing-with-pytorch-and-ray-0"
   ]
  },
  {
   "cell_type": "code",
   "execution_count": 1,
   "metadata": {},
   "outputs": [],
   "source": [
    "from math import ceil\n",
    "\n",
    "def split_word(word, num_chars=2, overlap=1):\n",
    "    # Refinement types amiright?!\n",
    "    assert num_chars > overlap, f\"The number of characters should be greater than the overlap\"\n",
    "    assert num_chars >= 2, f\"Number of characters should be greater than or equal to 2, got {num_chars}\"\n",
    "    assert overlap >= 1, f\"Overlap should be greater than or equal to 1, got {overlap}\"\n",
    "    \n",
    "    word_length = len(word)\n",
    "    \n",
    "    if word_length <= num_chars:\n",
    "        return [word]\n",
    "    \n",
    "    num_segments = ceil(\n",
    "        (word_length - overlap) / (num_chars - overlap)\n",
    "    )\n",
    "    \n",
    "    output = [None] * num_segments\n",
    "    for idx in range(num_segments):\n",
    "        if idx == num_segments - 1:\n",
    "            end = word_length\n",
    "            begin = end - num_chars\n",
    "        else:\n",
    "            begin = num_chars * idx - overlap * idx\n",
    "            end = begin + num_chars\n",
    "        \n",
    "        output[idx] = word[begin:end]\n",
    "    \n",
    "    return output"
   ]
  },
  {
   "cell_type": "code",
   "execution_count": 2,
   "metadata": {},
   "outputs": [],
   "source": [
    "a = \"hello\""
   ]
  },
  {
   "cell_type": "code",
   "execution_count": 3,
   "metadata": {},
   "outputs": [
    {
     "data": {
      "text/plain": [
       "['he', 'el', 'll', 'lo']"
      ]
     },
     "execution_count": 3,
     "metadata": {},
     "output_type": "execute_result"
    }
   ],
   "source": [
    "split_word(a, num_chars=2, overlap=1)"
   ]
  },
  {
   "cell_type": "code",
   "execution_count": 4,
   "metadata": {},
   "outputs": [
    {
     "data": {
      "text/plain": [
       "['hel', 'ell', 'llo']"
      ]
     },
     "execution_count": 4,
     "metadata": {},
     "output_type": "execute_result"
    }
   ],
   "source": [
    "split_word(a, num_chars=3, overlap=2)"
   ]
  },
  {
   "cell_type": "code",
   "execution_count": 5,
   "metadata": {},
   "outputs": [],
   "source": [
    "from torch.utils.data import Dataset\n",
    "\n",
    "class WordSplitter(Dataset):\n",
    "    def __init__(self, inputs, num_chars=2, overlap=1):\n",
    "        self.inputs = inputs\n",
    "        self.num_chars = num_chars\n",
    "        self.overlap = overlap\n",
    "        \n",
    "    def __len__(self):\n",
    "        return len(self.inputs)\n",
    "    \n",
    "    def __getitem__(self, idx):\n",
    "        filename = self.inputs[idx]\n",
    "        \n",
    "        with open(filename, \"r\") as f:\n",
    "            word = f.read().strip()\n",
    "        \n",
    "        return split_word(\n",
    "            word,\n",
    "            num_chars=self.num_chars,\n",
    "            overlap=self.overlap\n",
    "        )\n",
    "    \n",
    "    @classmethod\n",
    "    def collate_fn(*batch):\n",
    "        return batch[1]"
   ]
  },
  {
   "cell_type": "code",
   "execution_count": 6,
   "metadata": {},
   "outputs": [
    {
     "data": {
      "text/plain": [
       "['inputs/a.txt', 'inputs/b.txt', 'inputs/c.txt', 'inputs/d.txt']"
      ]
     },
     "execution_count": 6,
     "metadata": {},
     "output_type": "execute_result"
    }
   ],
   "source": [
    "import csv\n",
    "\n",
    "with open(\"dataset.csv\", \"r\") as csv_file:\n",
    "    reader = csv.DictReader(csv_file)\n",
    "    input_files = [f\"inputs/{row['input']}\" for row in reader]\n",
    "input_files"
   ]
  },
  {
   "cell_type": "code",
   "execution_count": 7,
   "metadata": {},
   "outputs": [],
   "source": [
    "word_splitter = WordSplitter(input_files, num_chars=3, overlap=2)"
   ]
  },
  {
   "cell_type": "code",
   "execution_count": 8,
   "metadata": {},
   "outputs": [],
   "source": [
    "assert word_splitter[0] == ['sim', 'imp', 'mpl', 'ple']"
   ]
  },
  {
   "cell_type": "code",
   "execution_count": 9,
   "metadata": {},
   "outputs": [],
   "source": [
    "from torch.utils.data import DataLoader\n",
    "\n",
    "loader = DataLoader(\n",
    "    word_splitter,\n",
    "    batch_size=1,\n",
    "    shuffle=False,\n",
    "    num_workers=len(word_splitter),\n",
    "    collate_fn=WordSplitter.collate_fn,\n",
    ")"
   ]
  },
  {
   "cell_type": "code",
   "execution_count": 10,
   "metadata": {},
   "outputs": [
    {
     "name": "stdout",
     "output_type": "stream",
     "text": [
      "['sim', 'imp', 'mpl', 'ple']\n",
      "['sca', 'cal', 'ale', 'lea', 'eab', 'abl', 'ble']\n",
      "['pre', 'rep', 'epr', 'pro', 'roc', 'oce', 'ces', 'ess', 'ssi', 'sin', 'ing']\n",
      "['pyt', 'yto', 'tor', 'orc', 'rch']\n"
     ]
    }
   ],
   "source": [
    "for metadatas in loader:\n",
    "    for metadata in metadatas:\n",
    "        print(metadata)"
   ]
  }
 ],
 "metadata": {
  "kernelspec": {
   "display_name": "Python 3",
   "language": "python",
   "name": "python3"
  },
  "language_info": {
   "codemirror_mode": {
    "name": "ipython",
    "version": 3
   },
   "file_extension": ".py",
   "mimetype": "text/x-python",
   "name": "python",
   "nbconvert_exporter": "python",
   "pygments_lexer": "ipython3",
   "version": "3.8.2"
  }
 },
 "nbformat": 4,
 "nbformat_minor": 4
}
